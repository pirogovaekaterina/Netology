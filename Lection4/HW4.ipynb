{
 "cells": [
  {
   "cell_type": "markdown",
   "metadata": {},
   "source": [
    "# Задача 1"
   ]
  },
  {
   "cell_type": "markdown",
   "metadata": {},
   "source": [
    "--решение 1"
   ]
  },
  {
   "cell_type": "code",
   "execution_count": 96,
   "metadata": {},
   "outputs": [
    {
     "data": {
      "text/plain": [
       "{15, 35, 54, 98, 119, 213}"
      ]
     },
     "execution_count": 96,
     "metadata": {},
     "output_type": "execute_result"
    }
   ],
   "source": [
    "ids = {'user1': [213, 213, 213, 15, 213],'user2': [54, 54, 119, 119, 119],'user3': [213, 98, 98, 35]}\n",
    "unique_ids = []\n",
    "for id in ids.values():\n",
    "    for x in id:\n",
    "        unique_ids.append(x)\n",
    "set(unique_ids)"
   ]
  },
  {
   "cell_type": "code",
   "execution_count": null,
   "metadata": {},
   "outputs": [],
   "source": [
    "--решение 2"
   ]
  },
  {
   "cell_type": "code",
   "execution_count": 56,
   "metadata": {},
   "outputs": [
    {
     "name": "stdout",
     "output_type": "stream",
     "text": [
      "[213, 213, 213, 15, 213, 54, 54, 119, 119, 119, 213, 98, 98, 35]\n",
      "Результат: {98, 35, 15, 213, 54, 119}\n"
     ]
    }
   ],
   "source": [
    "ids = {'user1': [213, 213, 213, 15, 213],'user2': [54, 54, 119, 119, 119],'user3': [213, 98, 98, 35]}\n",
    "unique_ids = []\n",
    "for id in ids.values():\n",
    "    unique_ids += id\n",
    "print(unique_ids)\n",
    "print('Результат:', set(unique_ids))"
   ]
  },
  {
   "cell_type": "markdown",
   "metadata": {},
   "source": [
    "# Задача 2"
   ]
  },
  {
   "cell_type": "code",
   "execution_count": 152,
   "metadata": {},
   "outputs": [
    {
     "name": "stdout",
     "output_type": "stream",
     "text": [
      "Поисковых запросов, содержащих 2 слов(а): 25.0 %\n",
      "Поисковых запросов, содержащих 3 слов(а): 50.0 %\n",
      "Поисковых запросов, содержащих 4 слов(а): 12.5 %\n",
      "Поисковых запросов, содержащих 5 слов(а): 12.5 %\n"
     ]
    }
   ],
   "source": [
    "queries = ['смотреть сериалы онлайн','новости спорта','афиша кино на завтра','курс доллара',\n",
    "           'сериалы этим летом','курс по питону','сериалы про спорт', 'когда выйдет люцифер на нетфликсе']\n",
    "words = []\n",
    "for i, query in enumerate(queries):\n",
    "    cnt = 0\n",
    "    for letter in query:\n",
    "        if letter == ' ': \n",
    "            cnt += 1\n",
    "    words.append(cnt+1)\n",
    "\n",
    "for element in set(words):\n",
    "    d[element] = 0\n",
    "    \n",
    "for i in words:\n",
    "    for j in d:\n",
    "        if i == j:\n",
    "            d[j] += 1\n",
    "            \n",
    "for k in d:\n",
    "    itog = round(d[k]/sum(d.values())*100,2)\n",
    "    print(f'Поисковых запросов, содержащих {k} слов(а): {itog} %')"
   ]
  },
  {
   "cell_type": "markdown",
   "metadata": {},
   "source": [
    "## Задача 3"
   ]
  },
  {
   "cell_type": "code",
   "execution_count": 109,
   "metadata": {},
   "outputs": [
    {
     "name": "stdout",
     "output_type": "stream",
     "text": [
      "Результат: {'adwords': {'ROI': 2.94, 'cost': 34, 'revenue': 35}, 'facebook': {'ROI': -6.36, 'cost': 110, 'revenue': 103}, 'twitter': {'ROI': -54.17, 'cost': 24, 'revenue': 11}, 'vk': {'ROI': 5.1, 'cost': 98, 'revenue': 103}, 'yandex': {'ROI': 16.99, 'cost': 153, 'revenue': 179}}\n"
     ]
    }
   ],
   "source": [
    "results = {\n",
    "'vk': {'revenue': 103, 'cost': 98},\n",
    "'yandex': {'revenue': 179, 'cost': 153},\n",
    "'facebook': {'revenue': 103, 'cost': 110},\n",
    "'adwords': {'revenue': 35, 'cost': 34},\n",
    "'twitter': {'revenue': 11, 'cost': 24}\n",
    "}\n",
    "\n",
    "d = {}\n",
    "\n",
    "for c, res in results.items():\n",
    "    lst = list(res.values())\n",
    "    res['ROI'] = round((lst[0]/lst[1]-1)*100,2)\n",
    "    res = (dict(sorted(res.items())))\n",
    "    d[c] = res\n",
    "    \n",
    "print(f'Результат: {dict(sorted(d.items()))}')    \n",
    " "
   ]
  },
  {
   "cell_type": "markdown",
   "metadata": {},
   "source": [
    "## Задача 4"
   ]
  },
  {
   "cell_type": "code",
   "execution_count": 121,
   "metadata": {},
   "outputs": [
    {
     "name": "stdout",
     "output_type": "stream",
     "text": [
      "Максимальный объем продаж на рекламном канале: vk\n"
     ]
    }
   ],
   "source": [
    "stats = {'facebook': 55, 'yandex': 115, 'vk': 120, 'google': 99, 'email': 42, 'ok': 98}\n",
    "\n",
    "lst = list(stats.values())\n",
    "for comp,stat in stats.items():\n",
    "    if stat == max(lst):\n",
    "        print(f'Максимальный объем продаж на рекламном канале: {comp}')"
   ]
  }
 ],
 "metadata": {
  "kernelspec": {
   "display_name": "Python 3",
   "language": "python",
   "name": "python3"
  },
  "language_info": {
   "codemirror_mode": {
    "name": "ipython",
    "version": 3
   },
   "file_extension": ".py",
   "mimetype": "text/x-python",
   "name": "python",
   "nbconvert_exporter": "python",
   "pygments_lexer": "ipython3",
   "version": "3.8.5"
  }
 },
 "nbformat": 4,
 "nbformat_minor": 4
}
