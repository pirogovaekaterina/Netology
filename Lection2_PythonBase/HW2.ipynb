{
 "cells": [
  {
   "cell_type": "markdown",
   "metadata": {},
   "source": [
    "# Задача 1"
   ]
  },
  {
   "cell_type": "code",
   "execution_count": 11,
   "metadata": {},
   "outputs": [
    {
     "name": "stdout",
     "output_type": "stream",
     "text": [
      "Фраза 1 длиннее фразы 2\n",
      "Конец программы\n"
     ]
    }
   ],
   "source": [
    "phrase_1 = 'Насколько проще было бы писать программы, если бы не заказчики'\n",
    "phrase_2 = '640Кб должно хватить для любых задач. Билл Гейтс (по легенде)'\n",
    "if len(phrase_1) > len(phrase_2): \n",
    "        print('Фраза 1 длиннее фразы 2') \n",
    "elif len(phrase_1) < len(phrase_2): \n",
    "        print('Фраза 2 длиннее фразы 1')\n",
    "else: print('Фразы равной длины')\n",
    "print('Конец программы')"
   ]
  },
  {
   "cell_type": "code",
   "execution_count": 21,
   "metadata": {},
   "outputs": [
    {
     "name": "stdout",
     "output_type": "stream",
     "text": [
      "Фраза 2 длиннее фразы 1\n",
      "Конец программы\n"
     ]
    }
   ],
   "source": [
    "phrase_1 = '640Кб должно хватить для любых задач. Билл Гейтс (по легенде)'\n",
    "phrase_2 = 'Насколько проще было бы писать программы, если бы не заказчики'\n",
    "if len(phrase_1) > len(phrase_2): \n",
    "        print('Фраза 1 длиннее фразы 2') \n",
    "elif len(phrase_1) < len(phrase_2): \n",
    "        print('Фраза 2 длиннее фразы 1')\n",
    "else: print('Фразы равной длины')\n",
    "print('Конец программы')"
   ]
  },
  {
   "cell_type": "code",
   "execution_count": 23,
   "metadata": {},
   "outputs": [
    {
     "name": "stdout",
     "output_type": "stream",
     "text": [
      "Фразы равной длины\n",
      "Конец программы\n"
     ]
    }
   ],
   "source": [
    "phrase_1 = 'Насколько проще было бы писать программы, если бы не заказчики'\n",
    "phrase_2 = 'Насколько проще было бы писать программы, если бы не заказчики'\n",
    "if len(phrase_1) > len(phrase_2): \n",
    "        print('Фраза 1 длиннее фразы 2') \n",
    "elif len(phrase_1) < len(phrase_2): \n",
    "        print('Фраза 2 длиннее фразы 1')\n",
    "else: print('Фразы равной длины')\n",
    "print('Конец программы')\n"
   ]
  },
  {
   "cell_type": "markdown",
   "metadata": {},
   "source": [
    "# Задача 2"
   ]
  },
  {
   "cell_type": "code",
   "execution_count": 8,
   "metadata": {},
   "outputs": [
    {
     "name": "stdout",
     "output_type": "stream",
     "text": [
      "Обычный год\n"
     ]
    }
   ],
   "source": [
    "year = 1700\n",
    "if year % 4 == 0 and year % 100 != 0 or year % 400 == 0: \n",
    "    print('Високосный год')\n",
    "else: \n",
    "    print('Обычный год')"
   ]
  },
  {
   "cell_type": "code",
   "execution_count": 9,
   "metadata": {},
   "outputs": [
    {
     "name": "stdout",
     "output_type": "stream",
     "text": [
      "Високосный год\n"
     ]
    }
   ],
   "source": [
    "year = 2020\n",
    "if year % 4 == 0: \n",
    "    print('Високосный год')\n",
    "else: \n",
    "    print('Обычный год')"
   ]
  },
  {
   "cell_type": "markdown",
   "metadata": {},
   "source": [
    "# Задача 3"
   ]
  },
  {
   "cell_type": "code",
   "execution_count": 2,
   "metadata": {},
   "outputs": [
    {
     "name": "stdout",
     "output_type": "stream",
     "text": [
      "Введите день: 5\n",
      "Введите месяц: Сентября\n",
      "Результат: \n",
      "Ваш знак зодиака: \n"
     ]
    }
   ],
   "source": [
    "user_input_day = int(input('Введите день: '))\n",
    "user_input_month = input('Введите месяц: ')\n",
    "print('Результат: ')\n",
    "print('Ваш знак зодиака: ')\n",
    "if user_input_day <= 31 and user_input_day >= 21 and user_input_month == 'Март' or user_input_day <= 19 and user_input_day >= 1 and user_input_month == 'Апрель': \n",
    "    print('Овен')\n",
    "elif user_input_day <= 30 and user_input_day >= 20 and user_input_month == 'Апрель' or user_input_day <= 20 and user_input_day >= 1 and user_input_month == 'Май': \n",
    "    print('Телец')\n",
    "elif user_input_day <= 31 and user_input_day >= 21 and user_input_month == 'Май' or user_input_day <= 30 and user_input_day >= 1 and user_input_month == 'Июнь':    \n",
    "    print('Близнецы')\n",
    "elif user_input_day <= 30 and user_input_day >= 22 and user_input_month == 'Июнь' or user_input_day <= 22 and user_input_day >= 1 and user_input_month == 'Июль': \n",
    "    print('Рак')\n",
    "elif user_input_day <= 31 and user_input_day >= 23 and user_input_month == 'Июль' or user_input_day <= 22 and user_input_day >= 1 and user_input_month == 'Август': \n",
    "    print('Лев')\n",
    "elif user_input_day <= 31 and user_input_day >= 23 and user_input_month == 'Август' or user_input_day <= 22 and user_input_day >= 1 and user_input_month == 'Сентябрь': \n",
    "    print('Дева')\n",
    "elif user_input_day <= 30 and user_input_day >= 23 and user_input_month == 'Сентябрь' or user_input_day <= 23 and user_input_day >= 1 and user_input_month == 'Октябрь': \n",
    "    print('Весы')  \n",
    "elif user_input_day <= 31 and user_input_day >= 24 and user_input_month == 'Октябрь' or user_input_day <= 22 and user_input_day >= 1 and user_input_month == 'Ноябрь': \n",
    "    print('Скорпион')\n",
    "elif user_input_day <= 30 and user_input_day >= 23 and user_input_month == 'Ноябрь' or user_input_day <= 21 and user_input_day >= 1 and user_input_month == 'Декабрь': \n",
    "    print('Стрелец')\n",
    "elif user_input_day <= 31 and user_input_day >= 22 and user_input_month == 'Декабрь' or user_input_day <= 20 and user_input_day >= 1 and user_input_month == 'Январь': \n",
    "    print('Козерог')   \n",
    "elif user_input_day <= 31 and user_input_day >= 21 and user_input_month == 'Январь' or user_input_day <= 18 and user_input_day >= 1 and user_input_month == 'Февраль': \n",
    "    print('Водолей')  \n",
    "elif user_input_day <= 29 and user_input_day >= 19 and user_input_month == 'Февраль' or user_input_day <= 20 and user_input_day >= 1 and user_input_month == 'Март': \n",
    "    print('Рыбы')    "
   ]
  },
  {
   "cell_type": "markdown",
   "metadata": {},
   "source": [
    "# Задача 4"
   ]
  },
  {
   "cell_type": "code",
   "execution_count": 4,
   "metadata": {},
   "outputs": [
    {
     "name": "stdout",
     "output_type": "stream",
     "text": [
      "Упаковка для лыж\n"
     ]
    }
   ],
   "source": [
    "width = 45\n",
    "length = 205\n",
    "height = 45\n",
    "if length > 200:\n",
    "    print('Упаковка для лыж')\n",
    "elif width < 15 and length < 15 and height < 15:\n",
    "    print('Коробка №1')\n",
    "elif width > 15 and width < 50 or length > 15 and length < 50 or height > 15 and height < 50:\n",
    "    print('Коробка №2')\n",
    "else: print('Стандартная коробка №3\"')"
   ]
  }
 ],
 "metadata": {
  "kernelspec": {
   "display_name": "Python 3",
   "language": "python",
   "name": "python3"
  },
  "language_info": {
   "codemirror_mode": {
    "name": "ipython",
    "version": 3
   },
   "file_extension": ".py",
   "mimetype": "text/x-python",
   "name": "python",
   "nbconvert_exporter": "python",
   "pygments_lexer": "ipython3",
   "version": "3.8.5"
  }
 },
 "nbformat": 4,
 "nbformat_minor": 4
}
